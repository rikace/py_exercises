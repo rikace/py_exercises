{
 "cells": [
  {
   "cell_type": "markdown",
   "metadata": {},
   "source": [
    "As a note, most of this code has been taken from [this tutorial](http://sebastianraschka.com/Articles/2014_sqlite_in_python_tutorial.html), with very minor modifications made.  \n",
    "\n",
    "\n",
    "Please reference it for more detail. (It's an awesome tutorial!)"
   ]
  },
  {
   "cell_type": "code",
   "execution_count": 1,
   "metadata": {
    "collapsed": true
   },
   "outputs": [],
   "source": [
    "import sqlite3\n",
    "sqlite_file = '/Users/MelodyHuang/Desktop/db1.sqlite'\n",
    "\"/Users/MelodyHuang/Desktop/db2.sqlite\"\n",
    "#If such a file does not exist prior to this, this will automatically create the file\n",
    "conn = sqlite3.connect(sqlite_file) \n",
    "c = conn.cursor()"
   ]
  },
  {
   "cell_type": "code",
   "execution_count": 2,
   "metadata": {
    "collapsed": true
   },
   "outputs": [],
   "source": [
    "table_name1 = 'table1'\n",
    "table_name2 = 'table2'\n",
    "field1 = 'column1'\n",
    "field_type1 = 'INTEGER'"
   ]
  },
  {
   "cell_type": "code",
   "execution_count": 3,
   "metadata": {},
   "outputs": [
    {
     "data": {
      "text/plain": [
       "<sqlite3.Cursor at 0x10b699d50>"
      ]
     },
     "execution_count": 3,
     "metadata": {},
     "output_type": "execute_result"
    }
   ],
   "source": [
    "#Creates a new table with 1 column\n",
    "c.execute('CREATE TABLE {tn} ({nf} {ft})'.format(tn = table_name1, nf=field1, ft=field_type1))"
   ]
  },
  {
   "cell_type": "markdown",
   "metadata": {},
   "source": [
    "The data types that are supported by SQLite: \n",
    "* INTEGER: Integer \n",
    "* REAL: Real (also known as floats)\n",
    "* TEXT: Text (strings)\n",
    "* BLOB: Blob (Binary data)\n",
    "* NULL: Null (Empty data)"
   ]
  },
  {
   "cell_type": "markdown",
   "metadata": {},
   "source": [
    "As a note: \n",
    "* tn = Table Name\n",
    "* cn = Column Name "
   ]
  },
  {
   "cell_type": "code",
   "execution_count": 4,
   "metadata": {},
   "outputs": [
    {
     "data": {
      "text/plain": [
       "<sqlite3.Cursor at 0x10b699d50>"
      ]
     },
     "execution_count": 4,
     "metadata": {},
     "output_type": "execute_result"
    }
   ],
   "source": [
    "#Adds column without a row value: \n",
    "field2 = 'column2' \n",
    "field_type2 = 'TEXT'\n",
    "field3 = 'column3'\n",
    "field_type3 = \"TEXT\"\n",
    "c.execute(\"ALTER TABLE {tn} ADD COLUMN '{cn}' {ct}\"\\\n",
    "          .format(tn=table_name1, cn=field2, ct = field_type2))\n",
    "\n",
    "#If we want to set a default row value: \n",
    "c.execute(\"ALTER TABLE {tn} ADD COLUMN '{cn}' {ct} DEFAULT '{df}'\"\\\n",
    "         .format(tn = table_name1, cn = field3, ct = field_type3, df = \"Hello World\"))"
   ]
  },
  {
   "cell_type": "code",
   "execution_count": 5,
   "metadata": {},
   "outputs": [
    {
     "data": {
      "text/plain": [
       "<sqlite3.Cursor at 0x10b699d50>"
      ]
     },
     "execution_count": 5,
     "metadata": {},
     "output_type": "execute_result"
    }
   ],
   "source": [
    "#Create new table: \n",
    "c.execute('CREATE TABLE {tn} ({nf} {ft} PRIMARY KEY)'.\\\n",
    "          format(tn = table_name2, nf=field1, ft=field_type1))\n",
    "c.execute(\"ALTER TABLE {tn} ADD COLUMN '{cn}' {ct}\"\\\n",
    "          .format(tn=table_name2, cn=field2, ct = field_type2))"
   ]
  },
  {
   "cell_type": "code",
   "execution_count": 6,
   "metadata": {
    "collapsed": true
   },
   "outputs": [],
   "source": [
    "#Insert values into a second column \n",
    "try:\n",
    "    c.execute(\"INSERT INTO {tn} ({idf}, {cn}) VALUES (123456, 'test')\".\\\n",
    "             format(tn = table_name2, idf = field1, cn = field2))\n",
    "except sqlite3.IntegrityError: \n",
    "    print(\"ERROR: ID already exists in PRIMARY KEY column{}\".format(id_column))"
   ]
  },
  {
   "cell_type": "code",
   "execution_count": 7,
   "metadata": {},
   "outputs": [
    {
     "data": {
      "text/plain": [
       "<sqlite3.Cursor at 0x10b699d50>"
      ]
     },
     "execution_count": 7,
     "metadata": {},
     "output_type": "execute_result"
    }
   ],
   "source": [
    "#We can do the above in a more compact manner: \n",
    "c.execute(\"INSERT OR IGNORE INTO {tn} ({idf}, {cn}) VALUES (123456, 'test')\".\\\n",
    "        format(tn=table_name2, idf=field1, cn=field2))"
   ]
  },
  {
   "cell_type": "code",
   "execution_count": 8,
   "metadata": {},
   "outputs": [
    {
     "data": {
      "text/plain": [
       "<sqlite3.Cursor at 0x10b699d50>"
      ]
     },
     "execution_count": 8,
     "metadata": {},
     "output_type": "execute_result"
    }
   ],
   "source": [
    "#Updating an entry: \n",
    "c.execute(\"UPDATE {tn} SET {cn} = ('Hello World!') WHERE {idf} = (123456)\".\\\n",
    "         format(tn = table_name2, idf = field1, cn = field2))\n",
    "\n",
    "#Equivalent to df$field2[which(df$field1 == 123456)] = \"Updated Value\""
   ]
  },
  {
   "cell_type": "code",
   "execution_count": 10,
   "metadata": {},
   "outputs": [
    {
     "name": "stdout",
     "output_type": "stream",
     "text": [
      "1): [(123456, 'Hello World!')]\n"
     ]
    }
   ],
   "source": [
    "#Selecting ALL columns for row that match a value: \n",
    "c.execute('SELECT * FROM {tn} WHERE {cn}=\"Hello World!\"'.\\\n",
    "          format(tn=table_name2, cn=field2))\n",
    "all_rows = c.fetchall()\n",
    "print('1):', all_rows)\n",
    "#THIS IS EQUIVALENT TO THE R SYNTAX: df[which(df$field2 == \"Hi World\",]"
   ]
  },
  {
   "cell_type": "code",
   "execution_count": 13,
   "metadata": {},
   "outputs": [
    {
     "name": "stdout",
     "output_type": "stream",
     "text": [
      "2): [(123456,)]\n"
     ]
    }
   ],
   "source": [
    "#Selecting a select column for rows that match a value: \n",
    "c.execute('SELECT ({coi}) FROM {tn} WHERE {cn}=\"Hello World!\"'.\\\n",
    "        format(coi=field1, tn=table_name2, cn=field2))\n",
    "all_rows = c.fetchall()\n",
    "print('2):', all_rows)"
   ]
  },
  {
   "cell_type": "code",
   "execution_count": 14,
   "metadata": {
    "collapsed": true
   },
   "outputs": [],
   "source": [
    "#Commits changes we've made to the database\n",
    "conn.commit()\n",
    "conn.close() #Closes the connection"
   ]
  }
 ],
 "metadata": {
  "kernelspec": {
   "display_name": "Python 3",
   "language": "python",
   "name": "python3"
  },
  "language_info": {
   "codemirror_mode": {
    "name": "ipython",
    "version": 3
   },
   "file_extension": ".py",
   "mimetype": "text/x-python",
   "name": "python",
   "nbconvert_exporter": "python",
   "pygments_lexer": "ipython3",
   "version": "3.6.3"
  }
 },
 "nbformat": 4,
 "nbformat_minor": 2
}
