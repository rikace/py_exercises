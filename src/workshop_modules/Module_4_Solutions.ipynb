{
 "cells": [
  {
   "cell_type": "markdown",
   "metadata": {},
   "source": [
    "# Warm Up"
   ]
  },
  {
   "cell_type": "markdown",
   "metadata": {},
   "source": [
    "Write a function to return the number of even integers in a given array.  \n",
    "\n",
    "Hint: the % \"modulo\" operator computes the remainder, e.g. 5 % 2 is 1. \n",
    "\n",
    "You may assume the user has inputted a list of numbers. (So there is no need to check type.) "
   ]
  },
  {
   "cell_type": "code",
   "execution_count": 6,
   "metadata": {
    "collapsed": true
   },
   "outputs": [],
   "source": [
    "def count_evens(input_list): \n",
    "    if len(input_list)==0: \n",
    "        return 0\n",
    "    else: \n",
    "        #Let n = count of total even numbers\n",
    "        n = 0\n",
    "        for item in input_list: \n",
    "            if item%2 == 0: \n",
    "                n += 1\n",
    "        return n"
   ]
  },
  {
   "cell_type": "code",
   "execution_count": 7,
   "metadata": {},
   "outputs": [
    {
     "name": "stdout",
     "output_type": "stream",
     "text": [
      "2\n",
      "3\n",
      "0\n"
     ]
    }
   ],
   "source": [
    "print(count_evens([1, 1, 2, 5, 2])) #Should return 2\n",
    "print(count_evens([2, 2, 0])) #Should return 3\n",
    "print(count_evens([1, 3, 5])) #Should return 0"
   ]
  },
  {
   "cell_type": "markdown",
   "metadata": {},
   "source": [
    "# Indirect Indexing"
   ]
  },
  {
   "cell_type": "markdown",
   "metadata": {},
   "source": [
    "Let's say you're a broke UCLA student. To earn enough money to eat the Poke bowls for lunch, you pick up a side job at Murphy Hall, handling their student directory. The directory is set up such that each inner list comprises of: [Name, ID Number, Total Units]. \n",
    "    \n",
    "First write a function that returns the person's name when you input their ID number."
   ]
  },
  {
   "cell_type": "code",
   "execution_count": 1,
   "metadata": {
    "collapsed": true
   },
   "outputs": [],
   "source": [
    "Directory = [['Latoyia', 20394, 613], ['Antony', 12350, 630], ['Stephanie', 20935, 123], ['Selma', 103512, 521],\n",
    "             ['Scarlet', 10293, 192], ['Song', 10925, 452], ['Laci', 109564, 632], ['Rocky', 109323, 401], \n",
    "             ['Kristin', 149506, 320], ['Jovita', 20961, 531], ['Cossondra', 23093, 349]]"
   ]
  },
  {
   "cell_type": "code",
   "execution_count": 4,
   "metadata": {},
   "outputs": [
    {
     "name": "stdout",
     "output_type": "stream",
     "text": [
      "{20394: 'Latoyia', 12350: 'Antony', 20935: 'Stephanie', 103512: 'Selma', 10293: 'Scarlet', 10925: 'Song', 109564: 'Laci', 109323: 'Rocky', 149506: 'Kristin', 20961: 'Jovita', 23093: 'Cossondra'}\n"
     ]
    }
   ],
   "source": [
    "directory_dict = {Directory[i][1]: Directory[i][0] for i in range(len(Directory))}\n",
    "print(directory_dict)"
   ]
  },
  {
   "cell_type": "code",
   "execution_count": 6,
   "metadata": {},
   "outputs": [
    {
     "data": {
      "text/plain": [
       "'Antony'"
      ]
     },
     "execution_count": 6,
     "metadata": {},
     "output_type": "execute_result"
    }
   ],
   "source": [
    "def recallStudentName(ID): \n",
    "    return(directory_dict[ID])\n",
    "\n",
    "recallStudentName(12350)"
   ]
  },
  {
   "cell_type": "markdown",
   "metadata": {},
   "source": [
    "Now assume you have a list called Names. Write a function that takes in the person's name and returns the index that their name is located."
   ]
  },
  {
   "cell_type": "code",
   "execution_count": 8,
   "metadata": {
    "collapsed": true
   },
   "outputs": [],
   "source": [
    "Names = ['Song', 'Latoyia', 'Kristin', 'Antony', 'Stephanie', \n",
    "         'Scarlet', 'Laci', 'Cassondra', 'Jovita', 'Selma', 'Rocky']"
   ]
  },
  {
   "cell_type": "code",
   "execution_count": 11,
   "metadata": {
    "collapsed": true
   },
   "outputs": [],
   "source": [
    "index_dict = {Names[i]:i for i in range(len(Names))}\n",
    "\n",
    "def findIndex(name): \n",
    "    return index_dict[name]"
   ]
  },
  {
   "cell_type": "code",
   "execution_count": 12,
   "metadata": {},
   "outputs": [
    {
     "name": "stdout",
     "output_type": "stream",
     "text": [
      "0\n"
     ]
    }
   ],
   "source": [
    "print(findIndex(\"Song\")) #should return 0 (as Song is located first in the Names list)"
   ]
  },
  {
   "cell_type": "markdown",
   "metadata": {},
   "source": [
    "Now for the final part, write a function that takes in a person's ID number and returns the index at which their name is located on the \"Names\" list."
   ]
  },
  {
   "cell_type": "code",
   "execution_count": 13,
   "metadata": {
    "collapsed": true
   },
   "outputs": [],
   "source": [
    "def findStudent(ID):\n",
    "    return findIndex(recallStudentName(ID))"
   ]
  },
  {
   "cell_type": "code",
   "execution_count": 14,
   "metadata": {},
   "outputs": [
    {
     "data": {
      "text/plain": [
       "3"
      ]
     },
     "execution_count": 14,
     "metadata": {},
     "output_type": "execute_result"
    }
   ],
   "source": [
    "findStudent(12350)"
   ]
  },
  {
   "cell_type": "markdown",
   "metadata": {},
   "source": [
    "# Text Processing & Data Cleaning"
   ]
  },
  {
   "cell_type": "markdown",
   "metadata": {},
   "source": [
    "Write a function to return the unique words in the following paragraph. Count contractions as their expanded form (i.e., 'can't' is effectively two words: 'can' and 'not'). Punctuation should not be counted as words, nor should spaces.  \n",
    "\n",
    "Hint: find a way to remove white spaces, punctuation, and symbols first. (Manually removing does not count! In this case, the text you are working with is relatively short, but in real life, you will be working with an unreadable amount of text) This can be done easily using with regular expressions (read more about it: https://docs.python.org/3/howto/regex.html), but if you don't want to venture down that road, you may find the replace() attribute of strings particularly helpful. "
   ]
  },
  {
   "cell_type": "code",
   "execution_count": 23,
   "metadata": {
    "collapsed": true
   },
   "outputs": [],
   "source": [
    "paragraph = 'Python, from the Greek word, is a genus of nonvenomous Pythonidae  [2] \\\n",
    "found in Africa and Asia. Until recently, seven extant species were recognised;[2] \\\n",
    "however, three subspecies have      been promoted and a new species recognised. A member \\\n",
    "of this genus, P. reticulatus, is among the longest snake species and extant reptiles \\\n",
    "in the world. In Africa, members of the genus are found in the tropics south of the Sahara, \\\n",
    "but not in the extreme south-western tip of southern Africa (Western Cape) or in Madagascar. \\\n",
    "In Asia, they are found from Bangladesh, Nepal, India, Pakistan, and Sri Lanka, including the \\\n",
    "Nicobar   Islands, through Myanmar, east to Indochina, southern China, Hong Kong and Hainan, as \\\n",
    "well as in the Malayan region of Indonesia     and the Philippines.[1] Some suggest that P. molurus \\\n",
    "and P. sebae have the potential to be problematic invasive species in South Florida.[3] The\\\n",
    "United States Department of Agriculture reports that only Python bivittatus is an invasive species \\\n",
    "in the United States.[4] In early 2016, after a culling operation yielded 106 of the animals,\\\n",
    "Everglades park officials suggested  that \"thousands\" may live within the park, and that the species \\\n",
    "has been breeding there for some years. More recent data suggest that these pythons wouldn\\'t \\\n",
    "withstand winter climates north of  Florida, contradicting previous research suggesting a more \\\n",
    "significant geographic potential range.[5][6]'"
   ]
  },
  {
   "cell_type": "code",
   "execution_count": 24,
   "metadata": {},
   "outputs": [
    {
     "name": "stdout",
     "output_type": "stream",
     "text": [
      "Python  from the Greek word  is a genus of nonvenomous Pythonidae   2  found in Africa and Asia  Until recently  seven extant species were recognised  2  however  three subspecies have      been promoted and a new species recognised  A memberof this genus  P  reticulatus  is among the longest snake species and extant reptiles in the world  In Africa  members of the genus are found in the tropics south of the Sahara but not in the extreme south-western tip of southern Africa  Western Cape  or in Madagascar In Asia  they are found from Bangladesh  Nepal  India  Pakistan  and Sri Lanka  including theNicobar   Islands  through Myanmar  east to Indochina  southern China  Hong Kong and Hainan  as well as in the Malayan region of Indonesia     and the Philippines  1  Some suggest that P  molurusand P  sebae have the potential to be problematic invasive species in South Florida  3  TheUnited States Department of Agriculture reports that only Python bivittatus is an invasive species in the United States  4  In early 2016  after a culling operation yielded 106 of the animals Everglades park officials suggested  that  thousands  may live within the park  and that the species has been breeding there for some years  More recent data suggest that these pythons wouldn't withstand winter climates north of  Florida  contradicting previous research suggesting a more significant geographic potential range  5  6 \n"
     ]
    }
   ],
   "source": [
    "#Let's begin by removing punctuation: \n",
    "remove_punctuation = [',', '[', ']', '(', ')', '\"', ';', '.']\n",
    "for ch in remove_punctuation: \n",
    "    paragraph = paragraph.replace(ch, ' ')\n",
    "\n",
    "print(paragraph)"
   ]
  },
  {
   "cell_type": "markdown",
   "metadata": {},
   "source": [
    "**A note on this method to remove punctuation and symbols:**\n",
    "\n",
    "This works reasonably well, and is computationally fast! However, if we have a LOT of data, then identifying the symbols we want to remove will be much more difficult, in which case, I would highly recommend using regular expressions. "
   ]
  },
  {
   "cell_type": "code",
   "execution_count": 22,
   "metadata": {},
   "outputs": [
    {
     "data": {
      "text/plain": [
       "{'1',\n",
       " '106',\n",
       " '2',\n",
       " '2016',\n",
       " '3',\n",
       " '4',\n",
       " '5',\n",
       " '6',\n",
       " 'A',\n",
       " 'Africa',\n",
       " 'Agriculture',\n",
       " 'Asia',\n",
       " 'Bangladesh',\n",
       " 'Cape',\n",
       " 'China',\n",
       " 'Department',\n",
       " 'Everglades',\n",
       " 'Florida',\n",
       " 'Greek',\n",
       " 'Hainan',\n",
       " 'Hong',\n",
       " 'In',\n",
       " 'India',\n",
       " 'Indochina',\n",
       " 'Indonesia',\n",
       " 'Islands',\n",
       " 'Kong',\n",
       " 'Lanka',\n",
       " 'Madagascar',\n",
       " 'Malayan',\n",
       " 'More',\n",
       " 'Myanmar',\n",
       " 'Nepal',\n",
       " 'P',\n",
       " 'Pakistan',\n",
       " 'Philippines',\n",
       " 'Python',\n",
       " 'Pythonidae',\n",
       " 'Sahara',\n",
       " 'Some',\n",
       " 'South',\n",
       " 'Sri',\n",
       " 'States',\n",
       " 'TheUnited',\n",
       " 'United',\n",
       " 'Until',\n",
       " 'Western',\n",
       " 'a',\n",
       " 'after',\n",
       " 'among',\n",
       " 'an',\n",
       " 'and',\n",
       " 'animals',\n",
       " 'are',\n",
       " 'as',\n",
       " 'be',\n",
       " 'been',\n",
       " 'bivittatus',\n",
       " 'breeding',\n",
       " 'but',\n",
       " 'climates',\n",
       " 'contradicting',\n",
       " 'culling',\n",
       " 'data',\n",
       " 'early',\n",
       " 'east',\n",
       " 'extant',\n",
       " 'extreme',\n",
       " 'for',\n",
       " 'found',\n",
       " 'from',\n",
       " 'genus',\n",
       " 'geographic',\n",
       " 'has',\n",
       " 'have',\n",
       " 'however',\n",
       " 'in',\n",
       " 'including',\n",
       " 'invasive',\n",
       " 'is',\n",
       " 'live',\n",
       " 'longest',\n",
       " 'may',\n",
       " 'memberof',\n",
       " 'members',\n",
       " 'molurusand',\n",
       " 'more',\n",
       " 'new',\n",
       " 'nonvenomous',\n",
       " 'north',\n",
       " 'not',\n",
       " 'of',\n",
       " 'officials',\n",
       " 'only',\n",
       " 'operation',\n",
       " 'or',\n",
       " 'park',\n",
       " 'potential',\n",
       " 'previous',\n",
       " 'problematic',\n",
       " 'promoted',\n",
       " 'pythons',\n",
       " 'range',\n",
       " 'recent',\n",
       " 'recently',\n",
       " 'recognised',\n",
       " 'region',\n",
       " 'reports',\n",
       " 'reptiles',\n",
       " 'research',\n",
       " 'reticulatus',\n",
       " 'sebae',\n",
       " 'seven',\n",
       " 'significant',\n",
       " 'snake',\n",
       " 'some',\n",
       " 'south',\n",
       " 'south-western',\n",
       " 'southern',\n",
       " 'species',\n",
       " 'subspecies',\n",
       " 'suggest',\n",
       " 'suggested',\n",
       " 'suggesting',\n",
       " 'that',\n",
       " 'the',\n",
       " 'theNicobar',\n",
       " 'there',\n",
       " 'these',\n",
       " 'they',\n",
       " 'this',\n",
       " 'thousands',\n",
       " 'three',\n",
       " 'through',\n",
       " 'tip',\n",
       " 'to',\n",
       " 'tropics',\n",
       " 'well',\n",
       " 'were',\n",
       " 'winter',\n",
       " 'within',\n",
       " 'withstand',\n",
       " 'word',\n",
       " 'world',\n",
       " \"wouldn't\",\n",
       " 'years',\n",
       " 'yielded'}"
      ]
     },
     "execution_count": 22,
     "metadata": {},
     "output_type": "execute_result"
    }
   ],
   "source": [
    "set(paragraph.split())"
   ]
  },
  {
   "cell_type": "code",
   "execution_count": 25,
   "metadata": {
    "collapsed": true
   },
   "outputs": [],
   "source": [
    "def returnUniqueWords(text): \n",
    "    remove_punctuation = [',', '[', ']', '(', ')', '\"', ';', '.']\n",
    "    for ch in remove_punctuation: \n",
    "        paragraph = paragraph.replace(ch, ' ')\n",
    "    return set(paragraph.split())"
   ]
  },
  {
   "cell_type": "markdown",
   "metadata": {},
   "source": [
    "Write a function that returns the total number of times a word appears in a given body of text. Your function should be robust enough such that if you input a contraction, it will count the total number of instances the contraction appears, as well as the separate words (i.e., 'haven't' and 'have not' both appear in the text, this would mean if we input 'haven't' into our function, it will return 2 counts). Make it such that your function is not case sensitive (so \"Hello\" and \"hello\" are counted as the same word). If the word you input into the function does not exist in the given body of text, return zero. Try it on the paragraph above. "
   ]
  },
  {
   "cell_type": "code",
   "execution_count": null,
   "metadata": {
    "collapsed": true
   },
   "outputs": [],
   "source": [
    "def term_occurence(term, text): "
   ]
  },
  {
   "cell_type": "markdown",
   "metadata": {},
   "source": [
    "# Numpy Exercises"
   ]
  },
  {
   "cell_type": "markdown",
   "metadata": {},
   "source": [
    "I've provided two very basic Numpy exercises. More can be found [**here**](https://github.com/rougier/numpy-100/blob/master/100%20Numpy%20exercises%20no%20solution.ipynb)."
   ]
  },
  {
   "cell_type": "markdown",
   "metadata": {},
   "source": [
    "Create a 3x3 matrix with values ranging from 0 to 8 "
   ]
  },
  {
   "cell_type": "code",
   "execution_count": 26,
   "metadata": {},
   "outputs": [
    {
     "name": "stdout",
     "output_type": "stream",
     "text": [
      "[[0 1 2]\n",
      " [3 4 5]\n",
      " [6 7 8]]\n"
     ]
    }
   ],
   "source": [
    "import numpy as np\n",
    "Z = np.arange(9).reshape(3,3)\n",
    "print(Z)"
   ]
  },
  {
   "cell_type": "markdown",
   "metadata": {},
   "source": [
    "Create a 10x10 array with random values and find the minimum and maximum values"
   ]
  },
  {
   "cell_type": "code",
   "execution_count": 29,
   "metadata": {},
   "outputs": [
    {
     "name": "stdout",
     "output_type": "stream",
     "text": [
      "0.0199996264776 0.999704650477\n"
     ]
    }
   ],
   "source": [
    "Z = np.random.random((10,10))\n",
    "Zmin, Zmax = Z.min(), Z.max()\n",
    "print(Zmin, Zmax)"
   ]
  }
 ],
 "metadata": {
  "kernelspec": {
   "display_name": "Python 3",
   "language": "python",
   "name": "python3"
  },
  "language_info": {
   "codemirror_mode": {
    "name": "ipython",
    "version": 3
   },
   "file_extension": ".py",
   "mimetype": "text/x-python",
   "name": "python",
   "nbconvert_exporter": "python",
   "pygments_lexer": "ipython3",
   "version": "3.6.3"
  }
 },
 "nbformat": 4,
 "nbformat_minor": 2
}
