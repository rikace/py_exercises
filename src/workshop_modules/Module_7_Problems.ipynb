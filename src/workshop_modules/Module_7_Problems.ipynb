{
 "cells": [
  {
   "cell_type": "markdown",
   "metadata": {},
   "source": [
    "Let's say you have a matrix $X$:"
   ]
  },
  {
   "cell_type": "markdown",
   "metadata": {},
   "source": [
    "\\begin{bmatrix}\n",
    "    x_{1}^{(1)} & x_{1}^{(2)} & x_{1}^{(3)} & \\dots  & x_{1}^{(n)} \\\\\n",
    "    x_{2}^{(1)} & x_{2}^{(2)} & x_{2}^{(3)} & \\dots  & x_{2}^{(n)} \\\\\n",
    "    \\vdots & \\vdots & \\vdots & \\ddots & \\vdots \\\\\n",
    "    x_{d}^{(1)} & x_{d}^{(2)} & x_{d}^{(3)} & \\dots  & x_{d}^{(n)}\n",
    "\\end{bmatrix}"
   ]
  },
  {
   "cell_type": "markdown",
   "metadata": {},
   "source": [
    "You also have some vector $Y$: "
   ]
  },
  {
   "cell_type": "markdown",
   "metadata": {},
   "source": [
    "$$ [y^{(1)} y^{(2)} ...~y^{(n)} ] $$"
   ]
  },
  {
   "cell_type": "markdown",
   "metadata": {},
   "source": [
    "Calculate the following for the numpy arrays listed below: \n",
    "$$ \\sum_{i = 1}^{n} \\sum_{j=1}^{n} y^{(i)} x_j^{(i)} $$"
   ]
  },
  {
   "cell_type": "code",
   "execution_count": null,
   "metadata": {
    "collapsed": true
   },
   "outputs": [],
   "source": [
    "import numpy as np"
   ]
  },
  {
   "cell_type": "code",
   "execution_count": null,
   "metadata": {
    "collapsed": true
   },
   "outputs": [],
   "source": [
    "np.random.seed(1)\n",
    "X = np.random.random(16).reshape((4,4))\n",
    "Y = np.random.random(4)"
   ]
  },
  {
   "cell_type": "markdown",
   "metadata": {},
   "source": [
    "Recall that the first index refers to the row, while the second refers to the column.\n",
    "Write a loop to print all of the elements in first row of X."
   ]
  },
  {
   "cell_type": "code",
   "execution_count": null,
   "metadata": {
    "collapsed": true
   },
   "outputs": [],
   "source": []
  },
  {
   "cell_type": "markdown",
   "metadata": {},
   "source": [
    "Now write a loop to print all of the elements in the first column of X: "
   ]
  },
  {
   "cell_type": "code",
   "execution_count": null,
   "metadata": {
    "collapsed": true
   },
   "outputs": [],
   "source": []
  },
  {
   "cell_type": "markdown",
   "metadata": {},
   "source": [
    "For the following sum, \n",
    "$$ \\sum_{i = 1}^{n} \\sum_{j=1}^{n} y^{(i)} x_j^{(i)}, $$\n",
    "notice that for the case of $i = 1$, we are taking the first column of $X$ and summing up the elements, and then multiplying with the first element of Y. \n",
    "\n",
    "Write the code to do this (for the case $i = 1$):\n",
    "\n",
    "Hint: use a loop."
   ]
  },
  {
   "cell_type": "code",
   "execution_count": null,
   "metadata": {
    "collapsed": true
   },
   "outputs": [],
   "source": []
  },
  {
   "cell_type": "markdown",
   "metadata": {},
   "source": [
    "This is for the case of $i = 1$. Now write the code to do this for the full summation, i.e., where i takes on values 1, 2, ... n.\n",
    "\n",
    "Hint: use another loop."
   ]
  },
  {
   "cell_type": "code",
   "execution_count": null,
   "metadata": {
    "collapsed": true
   },
   "outputs": [],
   "source": []
  },
  {
   "cell_type": "markdown",
   "metadata": {},
   "source": [
    "Now what if I want a different sum? \n",
    "Now calculate the following: \n",
    "$$-2 \\sum_{i=1}^{m}\\left(Y^{(i)} - \\left(\\sum_{j=1}^n X_j^{(i)} \\right) \\right)$$"
   ]
  },
  {
   "cell_type": "code",
   "execution_count": null,
   "metadata": {
    "collapsed": true
   },
   "outputs": [],
   "source": [
    "X = np.random.random(32).reshape((4,8))\n",
    "Y = np.random.random(8)"
   ]
  },
  {
   "cell_type": "markdown",
   "metadata": {},
   "source": [
    "First, identify what the values of $m$ and $n$ are."
   ]
  },
  {
   "cell_type": "code",
   "execution_count": null,
   "metadata": {
    "collapsed": true
   },
   "outputs": [],
   "source": []
  },
  {
   "cell_type": "markdown",
   "metadata": {},
   "source": [
    "Now calculate the summation. "
   ]
  },
  {
   "cell_type": "code",
   "execution_count": null,
   "metadata": {
    "collapsed": true
   },
   "outputs": [],
   "source": []
  }
 ],
 "metadata": {
  "kernelspec": {
   "display_name": "Python 3",
   "language": "python",
   "name": "python3"
  },
  "language_info": {
   "codemirror_mode": {
    "name": "ipython",
    "version": 3
   },
   "file_extension": ".py",
   "mimetype": "text/x-python",
   "name": "python",
   "nbconvert_exporter": "python",
   "pygments_lexer": "ipython3",
   "version": "3.6.3"
  }
 },
 "nbformat": 4,
 "nbformat_minor": 2
}
