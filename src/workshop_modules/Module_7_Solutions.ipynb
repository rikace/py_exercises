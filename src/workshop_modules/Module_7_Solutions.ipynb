{
 "cells": [
  {
   "cell_type": "markdown",
   "metadata": {},
   "source": [
    "Let's say you have a matrix $X$:"
   ]
  },
  {
   "cell_type": "markdown",
   "metadata": {},
   "source": [
    "\\begin{bmatrix}\n",
    "    x_{1}^{(1)} & x_{1}^{(2)} & x_{1}^{(3)} & \\dots  & x_{1}^{(n)} \\\\\n",
    "    x_{2}^{(1)} & x_{2}^{(2)} & x_{2}^{(3)} & \\dots  & x_{2}^{(n)} \\\\\n",
    "    \\vdots & \\vdots & \\vdots & \\ddots & \\vdots \\\\\n",
    "    x_{d}^{(1)} & x_{d}^{(2)} & x_{d}^{(3)} & \\dots  & x_{d}^{(n)}\n",
    "\\end{bmatrix}"
   ]
  },
  {
   "cell_type": "markdown",
   "metadata": {},
   "source": [
    "You also have some vector $Y$: "
   ]
  },
  {
   "cell_type": "markdown",
   "metadata": {},
   "source": [
    "$$ [y^{(1)} y^{(2)} ...~y^{(n)} ] $$"
   ]
  },
  {
   "cell_type": "markdown",
   "metadata": {},
   "source": [
    "Calculate the following for the numpy arrays listed below: \n",
    "$$ \\sum_{i = 1}^{n} \\sum_{j=1}^{n} y^{(i)} x_j^{(i)} $$"
   ]
  },
  {
   "cell_type": "code",
   "execution_count": 2,
   "metadata": {
    "collapsed": true
   },
   "outputs": [],
   "source": [
    "import numpy as np"
   ]
  },
  {
   "cell_type": "code",
   "execution_count": 3,
   "metadata": {
    "collapsed": true
   },
   "outputs": [],
   "source": [
    "np.random.seed(1)\n",
    "X = np.random.random(16).reshape((4,4))\n",
    "Y = np.random.random(4)"
   ]
  },
  {
   "cell_type": "code",
   "execution_count": null,
   "metadata": {
    "collapsed": true
   },
   "outputs": [],
   "source": [
    "print(X)"
   ]
  },
  {
   "cell_type": "code",
   "execution_count": null,
   "metadata": {
    "collapsed": true
   },
   "outputs": [],
   "source": [
    "print(Y)"
   ]
  },
  {
   "cell_type": "markdown",
   "metadata": {},
   "source": [
    "We need to iterate through all the elements of X. To call the first element of X (i.e., $x_1^{(1)}$), we must index correctly: "
   ]
  },
  {
   "cell_type": "code",
   "execution_count": null,
   "metadata": {
    "collapsed": true
   },
   "outputs": [],
   "source": [
    "print(X[0][0])"
   ]
  },
  {
   "cell_type": "markdown",
   "metadata": {},
   "source": [
    "Recall that the first index refers to the row, while the second refers to the column.\n",
    "Write a loop to print all of the elements in first row of X."
   ]
  },
  {
   "cell_type": "code",
   "execution_count": null,
   "metadata": {
    "collapsed": true
   },
   "outputs": [],
   "source": [
    "for i in range(X.shape[0]):\n",
    "    print(X[0][i])"
   ]
  },
  {
   "cell_type": "markdown",
   "metadata": {},
   "source": [
    "Now write a loop to print all of the elements in the first column of X: "
   ]
  },
  {
   "cell_type": "code",
   "execution_count": null,
   "metadata": {
    "collapsed": true
   },
   "outputs": [],
   "source": [
    "for i in range(X.shape[1]):\n",
    "    print(X[i][0])"
   ]
  },
  {
   "cell_type": "markdown",
   "metadata": {},
   "source": [
    "For the following sum, \n",
    "$$ \\sum_{i = 1}^{n} \\sum_{j=1}^{n} y^{(i)} x_j^{(i)}, $$\n",
    "notice that for the case of $i = 1$, we are taking the first column of $X$ and summing up the elements, and then multiplying with the first element of Y. \n",
    "\n",
    "Write the code to do this (for the case $i = 1$):"
   ]
  },
  {
   "cell_type": "code",
   "execution_count": null,
   "metadata": {
    "collapsed": true
   },
   "outputs": [],
   "source": [
    "total_sum = 0\n",
    "for j in range(X.shape[1]): \n",
    "    total_sum += X[j][0]\n",
    "#Sum of all the elements in a column: \n",
    "print(total_sum)\n",
    "\n",
    "#Now we multiply by the first element of Y:\n",
    "total_sum = Y[0]*total_sum \n",
    "print(total_sum)"
   ]
  },
  {
   "cell_type": "markdown",
   "metadata": {},
   "source": [
    "This is for the case of $i = 1$. Now write the code to do this for the full summation, i.e., where i takes on values 1, 2, ... n.\n",
    "\n",
    "Hint: use another loop."
   ]
  },
  {
   "cell_type": "code",
   "execution_count": null,
   "metadata": {
    "collapsed": true
   },
   "outputs": [],
   "source": [
    "total_sum = 0\n",
    "for i in range(X.shape[0]):\n",
    "    column_sum = 0\n",
    "    for j in range(X.shape[1]): \n",
    "        column_sum += X[j][i]\n",
    "    total_sum += (column_sum*Y[i])\n",
    "\n",
    "print(total_sum)"
   ]
  },
  {
   "cell_type": "markdown",
   "metadata": {},
   "source": [
    "Now what if I want a different sum? \n",
    "Now calculate the following: \n",
    "$$-2 \\sum_{i=1}^{m}\\left(Y^{(i)} - \\left(\\sum_{j=1}^n X_j^{(i)} \\right) \\right)$$"
   ]
  },
  {
   "cell_type": "code",
   "execution_count": 5,
   "metadata": {
    "collapsed": true
   },
   "outputs": [],
   "source": [
    "X = np.random.random(32).reshape((4,8))\n",
    "Y = np.random.random(8)"
   ]
  },
  {
   "cell_type": "code",
   "execution_count": 6,
   "metadata": {},
   "outputs": [
    {
     "name": "stdout",
     "output_type": "stream",
     "text": [
      "[[ 0.80074457  0.96826158  0.31342418  0.69232262  0.87638915  0.89460666\n",
      "   0.08504421  0.03905478]\n",
      " [ 0.16983042  0.8781425   0.09834683  0.42110763  0.95788953  0.53316528\n",
      "   0.69187711  0.31551563]\n",
      " [ 0.68650093  0.83462567  0.01828828  0.75014431  0.98886109  0.74816565\n",
      "   0.28044399  0.78927933]\n",
      " [ 0.10322601  0.44789353  0.9085955   0.29361415  0.28777534  0.13002857\n",
      "   0.01936696  0.67883553]]\n"
     ]
    }
   ],
   "source": [
    "print(X)"
   ]
  },
  {
   "cell_type": "code",
   "execution_count": 7,
   "metadata": {},
   "outputs": [
    {
     "name": "stdout",
     "output_type": "stream",
     "text": [
      "[ 0.21162812  0.26554666  0.49157316  0.05336255  0.57411761  0.14672857\n",
      "  0.58930554  0.69975836]\n"
     ]
    }
   ],
   "source": [
    "print(Y)"
   ]
  },
  {
   "cell_type": "markdown",
   "metadata": {},
   "source": [
    "First, identify what the values of $m$ and $n$ are."
   ]
  },
  {
   "cell_type": "code",
   "execution_count": 8,
   "metadata": {},
   "outputs": [
    {
     "name": "stdout",
     "output_type": "stream",
     "text": [
      "(4, 8)\n",
      "(8,)\n"
     ]
    }
   ],
   "source": [
    "print(X.shape)\n",
    "print(Y.shape)"
   ]
  },
  {
   "cell_type": "markdown",
   "metadata": {},
   "source": [
    "$m$ is the number of columns, and $n$ is the number of rows. So, $m$ is 8, while $n$ is 4. "
   ]
  },
  {
   "cell_type": "code",
   "execution_count": 9,
   "metadata": {
    "collapsed": true
   },
   "outputs": [],
   "source": [
    "m = X.shape[1]\n",
    "n = X.shape[0]"
   ]
  },
  {
   "cell_type": "markdown",
   "metadata": {},
   "source": [
    "Now calculate the summation."
   ]
  },
  {
   "cell_type": "code",
   "execution_count": 11,
   "metadata": {},
   "outputs": [
    {
     "name": "stdout",
     "output_type": "stream",
     "text": [
      "-2.54764201056\n"
     ]
    }
   ],
   "source": [
    "total_sum = 0\n",
    "\n",
    "for i in range(m):\n",
    "    inner_sum = 0\n",
    "    for j in range(n):\n",
    "        inner_sum += X[j][i]\n",
    "    total_sum += (Y[i]*X[j][i])\n",
    "\n",
    "total_sum *= -2\n",
    "\n",
    "print(total_sum)"
   ]
  },
  {
   "cell_type": "markdown",
   "metadata": {},
   "source": [
    "# Data Example"
   ]
  },
  {
   "cell_type": "code",
   "execution_count": 1,
   "metadata": {
    "collapsed": true
   },
   "outputs": [],
   "source": [
    "%matplotlib inline\n",
    "import matplotlib.pyplot as plt \n",
    "from sklearn import datasets, svm, metrics\n",
    "import numpy as np"
   ]
  },
  {
   "cell_type": "code",
   "execution_count": 2,
   "metadata": {
    "collapsed": true
   },
   "outputs": [],
   "source": [
    "digit = datasets.load_digits()"
   ]
  },
  {
   "cell_type": "markdown",
   "metadata": {},
   "source": [
    "The pre-made datasets in sklearn are dictionaries with the following keys:\n",
    "* data\n",
    "* images\n",
    "* target\n",
    "* target_names"
   ]
  },
  {
   "cell_type": "code",
   "execution_count": null,
   "metadata": {
    "collapsed": true
   },
   "outputs": [],
   "source": [
    "digit.keys()"
   ]
  },
  {
   "cell_type": "code",
   "execution_count": null,
   "metadata": {
    "collapsed": true
   },
   "outputs": [],
   "source": [
    "digit.images[0]"
   ]
  },
  {
   "cell_type": "code",
   "execution_count": null,
   "metadata": {
    "collapsed": true
   },
   "outputs": [],
   "source": [
    "plt.imshow(digit.images[0], cmap=plt.cm.gray_r)"
   ]
  },
  {
   "cell_type": "code",
   "execution_count": null,
   "metadata": {
    "collapsed": true
   },
   "outputs": [],
   "source": [
    "digit.target[0]"
   ]
  },
  {
   "cell_type": "markdown",
   "metadata": {},
   "source": [
    "In reality, we want to unravel our images. The great thing is, this is already done for us here! "
   ]
  },
  {
   "cell_type": "code",
   "execution_count": null,
   "metadata": {
    "collapsed": true
   },
   "outputs": [],
   "source": [
    "digit.data[0]"
   ]
  },
  {
   "cell_type": "markdown",
   "metadata": {},
   "source": [
    "Let's split our data into training and testing sets."
   ]
  },
  {
   "cell_type": "code",
   "execution_count": 3,
   "metadata": {
    "collapsed": true
   },
   "outputs": [],
   "source": [
    "from sklearn.model_selection import train_test_split\n",
    "xtrain, xtest, ytrain, ytest = train_test_split(digit.data, digit.target, train_size = 0.7, \\\n",
    "                                                test_size = 0.3, random_state = 123)"
   ]
  },
  {
   "cell_type": "code",
   "execution_count": 4,
   "metadata": {},
   "outputs": [
    {
     "data": {
      "text/plain": [
       "array([[  0.,   1.,  10., ...,   5.,   0.,   0.],\n",
       "       [  0.,   2.,  10., ...,   3.,   0.,   0.],\n",
       "       [  0.,   5.,  16., ...,   0.,   0.,   0.],\n",
       "       ..., \n",
       "       [  0.,   1.,   8., ...,   3.,   0.,   0.],\n",
       "       [  0.,   0.,   7., ...,   0.,   0.,   0.],\n",
       "       [  0.,   0.,  10., ...,   7.,   0.,   0.]])"
      ]
     },
     "execution_count": 4,
     "metadata": {},
     "output_type": "execute_result"
    }
   ],
   "source": [
    "xtrain"
   ]
  },
  {
   "cell_type": "code",
   "execution_count": null,
   "metadata": {
    "collapsed": true
   },
   "outputs": [],
   "source": [
    "model = svm.SVC(gamma = 0.001)\n",
    "model.fit(xtrain, ytrain)"
   ]
  },
  {
   "cell_type": "code",
   "execution_count": null,
   "metadata": {
    "collapsed": true
   },
   "outputs": [],
   "source": [
    "predicted_values = model.predict(xtest)\n",
    "print(predicted_values)"
   ]
  },
  {
   "cell_type": "code",
   "execution_count": null,
   "metadata": {
    "collapsed": true
   },
   "outputs": [],
   "source": [
    "print(ytest)"
   ]
  },
  {
   "cell_type": "code",
   "execution_count": null,
   "metadata": {
    "collapsed": true
   },
   "outputs": [],
   "source": [
    "print(\"Classification report for classifier %s:\\n%s\\n\"\n",
    "      % (model, metrics.classification_report(ytest, predicted_values)))\n",
    "print(\"Confusion matrix:\\n%s\" % metrics.confusion_matrix(ytest, predicted_values))"
   ]
  },
  {
   "cell_type": "code",
   "execution_count": null,
   "metadata": {
    "collapsed": true
   },
   "outputs": [],
   "source": []
  }
 ],
 "metadata": {
  "kernelspec": {
   "display_name": "Python 3",
   "language": "python",
   "name": "python3"
  },
  "language_info": {
   "codemirror_mode": {
    "name": "ipython",
    "version": 3
   },
   "file_extension": ".py",
   "mimetype": "text/x-python",
   "name": "python",
   "nbconvert_exporter": "python",
   "pygments_lexer": "ipython3",
   "version": "3.6.3"
  }
 },
 "nbformat": 4,
 "nbformat_minor": 2
}
