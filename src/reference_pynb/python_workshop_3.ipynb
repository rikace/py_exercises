{
 "cells": [
  {
   "cell_type": "code",
   "execution_count": 2,
   "metadata": {},
   "outputs": [],
   "source": [
    "# Exercise 1. \n",
    "numbers = []\n",
    "for i in range(2000, 3201):\n",
    "    if (i%7 == 0) and (i%5 != 0):\n",
    "        numbers.append(i) "
   ]
  },
  {
   "cell_type": "code",
   "execution_count": 5,
   "metadata": {},
   "outputs": [
    {
     "name": "stdout",
     "output_type": "stream",
     "text": [
      "3199\n"
     ]
    },
    {
     "data": {
      "text/plain": [
       "True"
      ]
     },
     "execution_count": 5,
     "metadata": {},
     "output_type": "execute_result"
    }
   ],
   "source": [
    "print(i)\n",
    "# == for equivalence, != for not equal; can also use \"is\": \n",
    "i%7 is 0 and i%5 is not 0"
   ]
  },
  {
   "cell_type": "code",
   "execution_count": 8,
   "metadata": {},
   "outputs": [],
   "source": [
    "# Exercise 2. \n",
    "# Write a function that returns the max of two numbers. \n",
    "x = 3 \n",
    "y = 5\n",
    "x > y\n",
    "\n",
    "def myMax(x, y):\n",
    "    if(x > y): \n",
    "        return(x) \n",
    "    else: \n",
    "        return(y)"
   ]
  },
  {
   "cell_type": "code",
   "execution_count": 9,
   "metadata": {},
   "outputs": [
    {
     "data": {
      "text/plain": [
       "5"
      ]
     },
     "execution_count": 9,
     "metadata": {},
     "output_type": "execute_result"
    }
   ],
   "source": [
    "myMax(3, 5)"
   ]
  },
  {
   "cell_type": "code",
   "execution_count": 11,
   "metadata": {},
   "outputs": [
    {
     "name": "stdout",
     "output_type": "stream",
     "text": [
      "1\n",
      "1\n"
     ]
    },
    {
     "data": {
      "text/plain": [
       "True"
      ]
     },
     "execution_count": 11,
     "metadata": {},
     "output_type": "execute_result"
    }
   ],
   "source": [
    "# Exercise 3. \n",
    "# Write a function that takes in a list of values and returns True \n",
    "# if the first element and last element are the same, and False otherwise\n",
    "x = [1,2,3,1]\n",
    "print(x[0])\n",
    "print(x[-1])\n",
    "x[0] == x[-1]"
   ]
  },
  {
   "cell_type": "code",
   "execution_count": 12,
   "metadata": {},
   "outputs": [],
   "source": [
    "def sameElement(x): \n",
    "    if(x[0] == x[-1]): #x[len(x)-1]\n",
    "        return(True)\n",
    "    else: \n",
    "        return(False)"
   ]
  },
  {
   "cell_type": "code",
   "execution_count": 13,
   "metadata": {},
   "outputs": [
    {
     "data": {
      "text/plain": [
       "True"
      ]
     },
     "execution_count": 13,
     "metadata": {},
     "output_type": "execute_result"
    }
   ],
   "source": [
    "sameElement(x)"
   ]
  },
  {
   "cell_type": "code",
   "execution_count": 14,
   "metadata": {},
   "outputs": [
    {
     "data": {
      "text/plain": [
       "False"
      ]
     },
     "execution_count": 14,
     "metadata": {},
     "output_type": "execute_result"
    }
   ],
   "source": [
    "x = [1,2,3]\n",
    "sameElement(x)"
   ]
  },
  {
   "cell_type": "code",
   "execution_count": 16,
   "metadata": {},
   "outputs": [
    {
     "name": "stdout",
     "output_type": "stream",
     "text": [
      "8\n"
     ]
    }
   ],
   "source": [
    "# Exercise 4. Quadratic Formula Question \n",
    "import math \n",
    "#math.sqrt\n",
    "print(2**3)"
   ]
  },
  {
   "cell_type": "code",
   "execution_count": 17,
   "metadata": {},
   "outputs": [],
   "source": [
    "def quad_pos(a, b, c): \n",
    "    pos_root = (-b + math.sqrt(b**2 - 4*a*c))/(2*a)\n",
    "    return(pos_root)\n",
    "\n",
    "def quad_neg(a, b, c):\n",
    "    neg_root = (-b - math.sqrt(b**2 - 4*a*c))/(2*a)\n",
    "    return(neg_root)"
   ]
  },
  {
   "cell_type": "code",
   "execution_count": 19,
   "metadata": {},
   "outputs": [],
   "source": [
    "# Exercise 5. MyFactorial \n",
    "# 5! = 5*4*3*2*1\n",
    "def myFactorial(n): \n",
    "    number = 1 \n",
    "    for i in range(n): \n",
    "        number = number*(i+1)\n",
    "    return(number)"
   ]
  },
  {
   "cell_type": "code",
   "execution_count": null,
   "metadata": {},
   "outputs": [],
   "source": [
    "#i = n\n",
    "#while i > 0: \n",
    "#    number = number*i \n",
    "#    i = i - 1"
   ]
  },
  {
   "cell_type": "code",
   "execution_count": 21,
   "metadata": {},
   "outputs": [
    {
     "data": {
      "text/plain": [
       "['hello', 'world']"
      ]
     },
     "execution_count": 21,
     "metadata": {},
     "output_type": "execute_result"
    }
   ],
   "source": [
    "# Exercise 6. \n",
    "# Write a function 'pig_latin', translate each word from a sentence into pig latin \n",
    "# Input: a sentence \n",
    "# Each word needs to be transformed \n",
    "example_sentence = \"hello world\"\n",
    "example_sentence.split()"
   ]
  },
  {
   "cell_type": "code",
   "execution_count": 22,
   "metadata": {},
   "outputs": [
    {
     "data": {
      "text/plain": [
       "['hello']"
      ]
     },
     "execution_count": 22,
     "metadata": {},
     "output_type": "execute_result"
    }
   ],
   "source": [
    "example_word = \"hello\" \n",
    "example_word.split()"
   ]
  },
  {
   "cell_type": "code",
   "execution_count": 23,
   "metadata": {},
   "outputs": [],
   "source": [
    "def pig_latin(sentence): \n",
    "    split_sentence = sentence.split() \n",
    "    cleaned_sentence =\"\"\n",
    "    for word in split_sentence: \n",
    "        #translate the word into pig latin \n",
    "        for i in range(len(word)): \n",
    "            if(word[i] == 'a' or word[i] == 'e' or word[i] == 'i' or word[i] == 'o' or word[i] == 'u'): \n",
    "                break \n",
    "        new_word = word[i:] + word[:i] +'ay'\n",
    "        if(cleaned_sentence == \"\"): \n",
    "            cleaned_sentence = new_word \n",
    "        else: \n",
    "            cleaned_sentence = cleaned_sentence + \" \" + new_word\n",
    "    return(cleaned_sentence)"
   ]
  },
  {
   "cell_type": "code",
   "execution_count": 24,
   "metadata": {},
   "outputs": [
    {
     "data": {
      "text/plain": [
       "'elloHay orldWay'"
      ]
     },
     "execution_count": 24,
     "metadata": {},
     "output_type": "execute_result"
    }
   ],
   "source": [
    "pig_latin(\"Hello World\")"
   ]
  },
  {
   "cell_type": "code",
   "execution_count": 27,
   "metadata": {},
   "outputs": [],
   "source": [
    "# Exercise 7 \n",
    "# Newton's Method \n",
    "def f1(x): \n",
    "    return((x*x)-1)\n",
    "    \n",
    "def df1(x): \n",
    "    return(2*x)"
   ]
  },
  {
   "cell_type": "code",
   "execution_count": 28,
   "metadata": {},
   "outputs": [
    {
     "name": "stdout",
     "output_type": "stream",
     "text": [
      "99\n"
     ]
    }
   ],
   "source": [
    "# Calculate the error of the guess f(x0)\n",
    "x0 = 10\n",
    "guess = f1(x0)\n",
    "error = 10e-3\n",
    "if(abs(guess) <= error): \n",
    "    return(x0) \n",
    "else: \n",
    "    #Update the guess \n",
    "    correction = -guess/df1(x0)\n",
    "    x0 = x+correction "
   ]
  },
  {
   "cell_type": "code",
   "execution_count": 29,
   "metadata": {},
   "outputs": [],
   "source": [
    "def solve_equation(f, x, error, df): \n",
    "    guess = f(x)\n",
    "    while(abs(guess) > error): \n",
    "        correction = -guess/df(x) \n",
    "        x = x+correction \n",
    "        guess = f(x) \n",
    "    return(x) \n",
    "    #if(abs(guess) <= error): \n",
    "    #    return(x) \n",
    "    #else: \n",
    "    #    correction = -guess/df(x) \n",
    "    #    x = x+correction "
   ]
  },
  {
   "cell_type": "code",
   "execution_count": 30,
   "metadata": {},
   "outputs": [
    {
     "data": {
      "text/plain": [
       "1.0032578510960606"
      ]
     },
     "execution_count": 30,
     "metadata": {},
     "output_type": "execute_result"
    }
   ],
   "source": [
    "solve_equation(f1, 10, 10e-3, df1)"
   ]
  },
  {
   "cell_type": "code",
   "execution_count": 32,
   "metadata": {},
   "outputs": [
    {
     "name": "stdout",
     "output_type": "stream",
     "text": [
      "['hello', 'hello', 'goodbye']\n"
     ]
    }
   ],
   "source": [
    "sample_string = \"hello hello goodbye\" \n",
    "split_string = sample_string.split()\n",
    "print(split_string)"
   ]
  },
  {
   "cell_type": "code",
   "execution_count": 34,
   "metadata": {},
   "outputs": [
    {
     "name": "stdout",
     "output_type": "stream",
     "text": [
      "2\n"
     ]
    }
   ],
   "source": [
    "count = 0\n",
    "for word in split_string: \n",
    "    if word == 'hello': \n",
    "        count = count+1 \n",
    "\n",
    "print(count)"
   ]
  },
  {
   "cell_type": "code",
   "execution_count": 35,
   "metadata": {},
   "outputs": [],
   "source": [
    "def num_times_appear(x, word_list): \n",
    "    count = 0 \n",
    "    for word in word_list: \n",
    "        if(word == x): \n",
    "            count = count+1 \n",
    "    return(count)"
   ]
  },
  {
   "cell_type": "code",
   "execution_count": 36,
   "metadata": {},
   "outputs": [
    {
     "data": {
      "text/plain": [
       "2"
      ]
     },
     "execution_count": 36,
     "metadata": {},
     "output_type": "execute_result"
    }
   ],
   "source": [
    "num_times_appear('hello', split_string)"
   ]
  },
  {
   "cell_type": "code",
   "execution_count": 38,
   "metadata": {},
   "outputs": [
    {
     "data": {
      "text/plain": [
       "{'goodbye': 1, 'hello': 2}"
      ]
     },
     "execution_count": 38,
     "metadata": {},
     "output_type": "execute_result"
    }
   ],
   "source": [
    "dict_words = {x: num_times_appear(x, split_string) for x in set(split_string)} \n",
    "dict_words"
   ]
  },
  {
   "cell_type": "code",
   "execution_count": 39,
   "metadata": {},
   "outputs": [
    {
     "data": {
      "text/plain": [
       "{'goodbye', 'hello'}"
      ]
     },
     "execution_count": 39,
     "metadata": {},
     "output_type": "execute_result"
    }
   ],
   "source": [
    "set(split_string)"
   ]
  },
  {
   "cell_type": "code",
   "execution_count": 41,
   "metadata": {},
   "outputs": [],
   "source": [
    "s = \"Lorem ipsum dolor sit amet, consectetur adipiscing elit, sed do eiusmod tempor incididunt ut labore et dolore magna aliqua. Ut enim ad minim veniam, quis nostrud exercitation ullamco laboris nisi ut aliquip ex ea commodo consequat. Duis aute irure dolor in reprehenderit in voluptate velit esse cillum dolore eu fugiat nulla pariatur. Excepteur sint occaecat cupidatat non proident, sunt in culpa qui officia deserunt mollit anim id est laborum.\""
   ]
  },
  {
   "cell_type": "code",
   "execution_count": 43,
   "metadata": {},
   "outputs": [],
   "source": [
    "s_split = s.split() \n",
    "dict_words = {x: num_times_appear(x, s_split) for x in set(s_split)} "
   ]
  },
  {
   "cell_type": "code",
   "execution_count": 44,
   "metadata": {},
   "outputs": [],
   "source": [
    "dict_words2 = {x:0 for x in set(s_split)}"
   ]
  },
  {
   "cell_type": "code",
   "execution_count": 45,
   "metadata": {},
   "outputs": [
    {
     "data": {
      "text/plain": [
       "{'cillum': 0,\n",
       " 'ex': 0,\n",
       " 'incididunt': 0,\n",
       " 'Duis': 0,\n",
       " 'sint': 0,\n",
       " 'voluptate': 0,\n",
       " 'sit': 0,\n",
       " 'dolore': 0,\n",
       " 'est': 0,\n",
       " 'Excepteur': 0,\n",
       " 'non': 0,\n",
       " 'anim': 0,\n",
       " 'ullamco': 0,\n",
       " 'Lorem': 0,\n",
       " 'minim': 0,\n",
       " 'officia': 0,\n",
       " 'exercitation': 0,\n",
       " 'aute': 0,\n",
       " 'veniam,': 0,\n",
       " 'sed': 0,\n",
       " 'velit': 0,\n",
       " 'in': 0,\n",
       " 'do': 0,\n",
       " 'adipiscing': 0,\n",
       " 'Ut': 0,\n",
       " 'quis': 0,\n",
       " 'id': 0,\n",
       " 'sunt': 0,\n",
       " 'commodo': 0,\n",
       " 'magna': 0,\n",
       " 'nostrud': 0,\n",
       " 'tempor': 0,\n",
       " 'deserunt': 0,\n",
       " 'amet,': 0,\n",
       " 'ea': 0,\n",
       " 'aliquip': 0,\n",
       " 'ipsum': 0,\n",
       " 'eiusmod': 0,\n",
       " 'nisi': 0,\n",
       " 'culpa': 0,\n",
       " 'qui': 0,\n",
       " 'dolor': 0,\n",
       " 'ut': 0,\n",
       " 'labore': 0,\n",
       " 'et': 0,\n",
       " 'reprehenderit': 0,\n",
       " 'pariatur.': 0,\n",
       " 'proident,': 0,\n",
       " 'laborum.': 0,\n",
       " 'nulla': 0,\n",
       " 'esse': 0,\n",
       " 'occaecat': 0,\n",
       " 'elit,': 0,\n",
       " 'aliqua.': 0,\n",
       " 'cupidatat': 0,\n",
       " 'ad': 0,\n",
       " 'consequat.': 0,\n",
       " 'eu': 0,\n",
       " 'fugiat': 0,\n",
       " 'laboris': 0,\n",
       " 'irure': 0,\n",
       " 'consectetur': 0,\n",
       " 'mollit': 0,\n",
       " 'enim': 0}"
      ]
     },
     "execution_count": 45,
     "metadata": {},
     "output_type": "execute_result"
    }
   ],
   "source": [
    "dict_words2"
   ]
  },
  {
   "cell_type": "code",
   "execution_count": 46,
   "metadata": {},
   "outputs": [
    {
     "data": {
      "text/plain": [
       "0"
      ]
     },
     "execution_count": 46,
     "metadata": {},
     "output_type": "execute_result"
    }
   ],
   "source": [
    "dict_words2['cillum']"
   ]
  },
  {
   "cell_type": "code",
   "execution_count": 48,
   "metadata": {},
   "outputs": [],
   "source": [
    "for word in s_split: \n",
    "    dict_words2[word] = dict_words2[word] + 1"
   ]
  },
  {
   "cell_type": "code",
   "execution_count": 49,
   "metadata": {},
   "outputs": [
    {
     "data": {
      "text/plain": [
       "{'cillum': 1,\n",
       " 'ex': 1,\n",
       " 'incididunt': 1,\n",
       " 'Duis': 1,\n",
       " 'sint': 1,\n",
       " 'voluptate': 1,\n",
       " 'sit': 1,\n",
       " 'dolore': 2,\n",
       " 'est': 1,\n",
       " 'Excepteur': 1,\n",
       " 'non': 1,\n",
       " 'anim': 1,\n",
       " 'ullamco': 1,\n",
       " 'Lorem': 1,\n",
       " 'minim': 1,\n",
       " 'officia': 1,\n",
       " 'exercitation': 1,\n",
       " 'aute': 1,\n",
       " 'veniam,': 1,\n",
       " 'sed': 1,\n",
       " 'velit': 1,\n",
       " 'in': 3,\n",
       " 'do': 1,\n",
       " 'adipiscing': 1,\n",
       " 'Ut': 1,\n",
       " 'quis': 1,\n",
       " 'id': 1,\n",
       " 'sunt': 1,\n",
       " 'commodo': 1,\n",
       " 'magna': 1,\n",
       " 'nostrud': 1,\n",
       " 'tempor': 1,\n",
       " 'deserunt': 1,\n",
       " 'amet,': 1,\n",
       " 'ea': 1,\n",
       " 'aliquip': 1,\n",
       " 'ipsum': 1,\n",
       " 'eiusmod': 1,\n",
       " 'nisi': 1,\n",
       " 'culpa': 1,\n",
       " 'qui': 1,\n",
       " 'dolor': 2,\n",
       " 'ut': 2,\n",
       " 'labore': 1,\n",
       " 'et': 1,\n",
       " 'reprehenderit': 1,\n",
       " 'pariatur.': 1,\n",
       " 'proident,': 1,\n",
       " 'laborum.': 1,\n",
       " 'nulla': 1,\n",
       " 'esse': 1,\n",
       " 'occaecat': 1,\n",
       " 'elit,': 1,\n",
       " 'aliqua.': 1,\n",
       " 'cupidatat': 1,\n",
       " 'ad': 1,\n",
       " 'consequat.': 1,\n",
       " 'eu': 1,\n",
       " 'fugiat': 1,\n",
       " 'laboris': 1,\n",
       " 'irure': 1,\n",
       " 'consectetur': 1,\n",
       " 'mollit': 1,\n",
       " 'enim': 1}"
      ]
     },
     "execution_count": 49,
     "metadata": {},
     "output_type": "execute_result"
    }
   ],
   "source": [
    "dict_words2"
   ]
  },
  {
   "cell_type": "code",
   "execution_count": null,
   "metadata": {},
   "outputs": [],
   "source": []
  }
 ],
 "metadata": {
  "kernelspec": {
   "display_name": "Python 3",
   "language": "python",
   "name": "python3"
  },
  "language_info": {
   "codemirror_mode": {
    "name": "ipython",
    "version": 3
   },
   "file_extension": ".py",
   "mimetype": "text/x-python",
   "name": "python",
   "nbconvert_exporter": "python",
   "pygments_lexer": "ipython3",
   "version": "3.7.4"
  }
 },
 "nbformat": 4,
 "nbformat_minor": 2
}
